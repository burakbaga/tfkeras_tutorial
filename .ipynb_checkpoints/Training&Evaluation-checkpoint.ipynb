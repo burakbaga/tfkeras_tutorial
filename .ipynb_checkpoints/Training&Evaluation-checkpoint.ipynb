{
 "cells": [
  {
   "cell_type": "markdown",
   "id": "13fdc212-fed9-4fe5-8b0a-3383167604a0",
   "metadata": {},
   "source": [
    "# Training & evaluation with the built-in methods\n",
    "## API genel bakış: İlk end-to-end örnek \n",
    "Bir modele data gönderiyorsak, numpy array yada tf.data objesi kullanmamız gerekiyor. Data küçükse numpy array yeterli olabilir. \n",
    "Mnist datası için bir model oluşturalım.  "
   ]
  },
  {
   "cell_type": "code",
   "execution_count": 1,
   "id": "2916dbb4-8f55-42e4-90d2-e7f89d6f74e4",
   "metadata": {},
   "outputs": [],
   "source": [
    "import tensorflow as tf\n",
    "from tensorflow import keras\n",
    "from tensorflow.keras import layers"
   ]
  },
  {
   "cell_type": "code",
   "execution_count": 12,
   "id": "5e22594a-fa75-4a14-95fb-38d636f0a648",
   "metadata": {},
   "outputs": [],
   "source": [
    "inputs = keras.Input(shape=(784,), name=\"digits\")\n",
    "x = layers.Dense(64, activation=\"relu\", name=\"dense_1\")(inputs)\n",
    "x = layers.Dense(64, activation=\"relu\", name=\"dense_2\")(x)\n",
    "outputs = layers.Dense(10, activation=\"softmax\", name=\"predictions\")(x)\n",
    "\n",
    "model = keras.Model(inputs=inputs, outputs=outputs)"
   ]
  },
  {
   "cell_type": "markdown",
   "id": "a02b021b-aea2-4288-867d-57e9cb42b501",
   "metadata": {},
   "source": [
    "Genellikle end-to-end bir akış aşağıdakileri içermelidir. \n",
    "* Training\n",
    "* Validation (Training verisinden çıkarılmış)\n",
    "* Evaluation (Test verisinde)\n",
    "\n",
    "Bu örnek için mnist datasını kullanalım: "
   ]
  },
  {
   "cell_type": "code",
   "execution_count": 13,
   "id": "87f9adce-6f4b-42a6-9f30-2ea1957ef7e0",
   "metadata": {},
   "outputs": [],
   "source": [
    "(x_train,y_train),(x_test,y_test) = keras.datasets.mnist.load_data()\n",
    "\n",
    "x_train = x_train.reshape(-1,784).astype(\"float32\")/255\n",
    "x_test = x_test.reshape(-1,784).astype(\"float32\")/255\n",
    "\n",
    "y_train = y_train.astype(\"float32\")\n",
    "y_test = y_test.astype(\"float32\")\n",
    "\n",
    "# son 10000 data validation için ayrılıyor. \n",
    "x_val = x_train[-10000:]\n",
    "y_val = y_train[-10000:]\n",
    "x_train = x_train[:-10000]\n",
    "y_train = y_train[:-10000]"
   ]
  },
  {
   "cell_type": "code",
   "execution_count": 14,
   "id": "dd80cd5f-98fa-49c8-a701-fd60ae66c493",
   "metadata": {},
   "outputs": [],
   "source": [
    "# Eğitim için gerekli konfigurasyonları yapalım. \n",
    "model.compile(optimizer=keras.optimizers.RMSprop(),\n",
    "             loss = keras.losses.SparseCategoricalCrossentropy(),\n",
    "             metrics=[keras.metrics.SparseCategoricalAccuracy()])"
   ]
  },
  {
   "cell_type": "code",
   "execution_count": 15,
   "id": "802e31db-e24c-4e5f-b853-fa1fcd9078d7",
   "metadata": {},
   "outputs": [
    {
     "name": "stdout",
     "output_type": "stream",
     "text": [
      "Modeli eğitim verisi üzerinde çalıştıralım\n",
      "Epoch 1/2\n",
      "782/782 [==============================] - 4s 4ms/step - loss: 0.3312 - sparse_categorical_accuracy: 0.9066 - val_loss: 0.1923 - val_sparse_categorical_accuracy: 0.9411\n",
      "Epoch 2/2\n",
      "782/782 [==============================] - 3s 4ms/step - loss: 0.1625 - sparse_categorical_accuracy: 0.9517 - val_loss: 0.1431 - val_sparse_categorical_accuracy: 0.9571\n"
     ]
    }
   ],
   "source": [
    "# fit metodunu çağırarak model eğitimini başlatacağız. \n",
    "# Eğitimi datayı batchlere bölerek yapacağız. Batchler halinde tüm verisetinde gezerek belirtilen epoch kadar eğitim yapılacak. \n",
    "print(\"Modeli eğitim verisi üzerinde çalıştıralım\")\n",
    "history = model.fit(x_train,y_train,batch_size=64,epochs=2,validation_data = (x_val,y_val))"
   ]
  },
  {
   "cell_type": "code",
   "execution_count": 16,
   "id": "5770520e-333e-4ab7-80b3-c4e504bf4ed6",
   "metadata": {},
   "outputs": [
    {
     "data": {
      "text/plain": [
       "{'loss': [0.33118441700935364, 0.16253319382667542],\n",
       " 'sparse_categorical_accuracy': [0.9066399931907654, 0.9517199993133545],\n",
       " 'val_loss': [0.1922527700662613, 0.1430988609790802],\n",
       " 'val_sparse_categorical_accuracy': [0.941100001335144, 0.957099974155426]}"
      ]
     },
     "execution_count": 16,
     "metadata": {},
     "output_type": "execute_result"
    }
   ],
   "source": [
    "# Fit metodundan bir history objesi döndürdük. \n",
    "history.history"
   ]
  },
  {
   "cell_type": "code",
   "execution_count": 23,
   "id": "c36b21f4-9be9-4101-b1e2-80915cef69e3",
   "metadata": {},
   "outputs": [
    {
     "name": "stdout",
     "output_type": "stream",
     "text": [
      "Test datası ile evaluate etme: \n",
      "79/79 [==============================] - 0s 2ms/step - loss: 0.1449 - sparse_categorical_accuracy: 0.9561\n",
      "Test loss ve test acc değerleri :  [0.14488306641578674, 0.9560999870300293]\n",
      "Prediction\n",
      "[[1.5614514e-06 4.3536719e-08 6.2614163e-05 2.1028002e-04 1.7766015e-06\n",
      "  3.6187409e-06 7.6621154e-10 9.9969888e-01 2.5712745e-06 1.8728973e-05]]\n"
     ]
    }
   ],
   "source": [
    "# evaluate ile modeli değerlendirelim \n",
    "print(\"Test datası ile evaluate etme: \")\n",
    "results = model.evaluate(x_test,y_test,batch_size=128)\n",
    "print(\"Test loss ve test acc değerleri : \",results)\n",
    "\n",
    "# Prediction için : \n",
    "print(\"Prediction\")\n",
    "prediction = model.predict(x_test[0].reshape(1,-1))\n",
    "print(prediction)"
   ]
  },
  {
   "cell_type": "markdown",
   "id": "f225b753-04d1-42b1-af04-96705f00c242",
   "metadata": {},
   "source": [
    "## Workflodaki adımlara ayrıntılı olarak bakalım\n",
    "### Compile Metodu, loss-metrics-optimizer\n",
    "Model eğitimini başlatmak için loss, optimizer ve başarıyı ölçümleyecek metriklere ihtiyaç vardır. Bu parametreleri compile metoduna argument olarak göndeririz.   \n",
    "Metric parametresi liste şeklinde bir modelin istenilen sayıda metriği olabilir.  \n",
    "Eğer modelin birden fazla outputu varsa, her output için farklı loss ve metrikler belirleyebiliriz. Her outputun total loss a ne kadar etki edeceğini de ayarlayabiliriz. "
   ]
  },
  {
   "cell_type": "code",
   "execution_count": 25,
   "id": "d799a496-f97e-42cf-9294-9ee7f441287a",
   "metadata": {},
   "outputs": [],
   "source": [
    "model.compile(optimizer = keras.optimizers.RMSprop(learning_rate=1e-3),\n",
    "             loss = keras.losses.SparseCategoricalCrossentropy(),\n",
    "             metrics=[keras.metrics.SparseCategoricalAccuracy()])\n",
    "\n",
    "# ikiside aynı şekilde çalışır \n",
    "model.compile(\n",
    "    optimizer=\"rmsprop\",\n",
    "    loss=\"sparse_categorical_crossentropy\",\n",
    "    metrics=[\"sparse_categorical_accuracy\"],\n",
    ")"
   ]
  },
  {
   "cell_type": "code",
   "execution_count": 26,
   "id": "c87ae02d-a8a9-4101-a711-e978ef6899bf",
   "metadata": {},
   "outputs": [],
   "source": [
    "# DAHA SONRA KULLANMAK İÇİN MODELİ VE COMPILE İŞLEMİ İÇİN FONKSİYONLAR OLUŞTURALIM\n",
    "def get_uncompiled_model():\n",
    "    inputs = keras.Input(shape=(784,), name=\"digits\")\n",
    "    x = layers.Dense(64, activation=\"relu\", name=\"dense_1\")(inputs)\n",
    "    x = layers.Dense(64, activation=\"relu\", name=\"dense_2\")(x)\n",
    "    outputs = layers.Dense(10, activation=\"softmax\", name=\"predictions\")(x)\n",
    "    model = keras.Model(inputs=inputs, outputs=outputs)\n",
    "    return model\n",
    "\n",
    "\n",
    "def get_compiled_model():\n",
    "    model = get_uncompiled_model()\n",
    "    model.compile(\n",
    "        optimizer=\"rmsprop\",\n",
    "        loss=\"sparse_categorical_crossentropy\",\n",
    "        metrics=[\"sparse_categorical_accuracy\"],\n",
    "    )\n",
    "    return model"
   ]
  },
  {
   "cell_type": "markdown",
   "id": "1f47f233-a0a5-4b5c-a387-67a47fcf5a9c",
   "metadata": {},
   "source": [
    "### Bir çok built-in optimizers, loss, metrik vardır. \n",
    "Genellikle kendi loss,metrik, optimizer larını oluşturmamıza gerek kalmaz. Bunların hepsi Keras API de vardır. \n",
    "Optimizers: \n",
    "* SGD()\n",
    "* RMSporp()\n",
    "* Adam()\n",
    "* etc\n",
    "\n",
    "Losses: \n",
    "* MeanSquaredError()\n",
    "* KLDivergence()\n",
    "* CosineSimilarity()\n",
    "* etc.\n",
    "\n",
    "Metrics: \n",
    "* AUC()\n",
    "* Precision()\n",
    "* Recall()\n",
    "* etc"
   ]
  },
  {
   "cell_type": "code",
   "execution_count": null,
   "id": "d5566feb-a442-4e3d-beb7-f0ed88a47535",
   "metadata": {},
   "outputs": [],
   "source": []
  },
  {
   "cell_type": "code",
   "execution_count": null,
   "id": "4026af54-aef4-4c2e-af8a-09b082c02e0f",
   "metadata": {},
   "outputs": [],
   "source": []
  },
  {
   "cell_type": "code",
   "execution_count": null,
   "id": "e124bf2c-8f4a-4c24-b64b-242e4e90cbd3",
   "metadata": {},
   "outputs": [],
   "source": []
  },
  {
   "cell_type": "code",
   "execution_count": null,
   "id": "125a927b-5d72-4c40-b156-377fdff3d07a",
   "metadata": {},
   "outputs": [],
   "source": []
  },
  {
   "cell_type": "code",
   "execution_count": null,
   "id": "1aa4126d-a027-4915-bd1a-29c463f0707e",
   "metadata": {},
   "outputs": [],
   "source": []
  }
 ],
 "metadata": {
  "kernelspec": {
   "display_name": "tod",
   "language": "python",
   "name": "tod"
  },
  "language_info": {
   "codemirror_mode": {
    "name": "ipython",
    "version": 3
   },
   "file_extension": ".py",
   "mimetype": "text/x-python",
   "name": "python",
   "nbconvert_exporter": "python",
   "pygments_lexer": "ipython3",
   "version": "3.6.5"
  }
 },
 "nbformat": 4,
 "nbformat_minor": 5
}
