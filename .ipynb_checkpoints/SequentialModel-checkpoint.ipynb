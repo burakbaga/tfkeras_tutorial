{
 "cells": [
  {
   "cell_type": "markdown",
   "id": "25ff9c9b",
   "metadata": {},
   "source": [
    "# The Sequential Model"
   ]
  },
  {
   "cell_type": "markdown",
   "id": "dd06346d",
   "metadata": {},
   "source": [
    "Sequential model katmanların stack halinde sıralı olduğu bir yapıdadır. "
   ]
  },
  {
   "cell_type": "code",
   "execution_count": 2,
   "id": "347478fa",
   "metadata": {},
   "outputs": [],
   "source": [
    "import tensorflow as tf \n",
    "from tensorflow import keras \n",
    "from tensorflow.keras import layers"
   ]
  },
  {
   "cell_type": "code",
   "execution_count": 3,
   "id": "1732fb0f",
   "metadata": {},
   "outputs": [],
   "source": [
    "model = keras.Sequential([\n",
    "    layers.Dense(2,activation=\"relu\",name=\"layer1\"),\n",
    "    layers.Dense(3,activation=\"relu\",name=\"layer2\"),\n",
    "    layers.Dense(4,name=\"layer3\")\n",
    "])\n",
    "\n",
    "x = tf.ones((3,3))\n",
    "y = model(x)"
   ]
  },
  {
   "cell_type": "code",
   "execution_count": null,
   "id": "70c7d62d",
   "metadata": {},
   "outputs": [],
   "source": [
    "# Yukarıdaki "
   ]
  }
 ],
 "metadata": {
  "kernelspec": {
   "display_name": "tod",
   "language": "python",
   "name": "tod"
  },
  "language_info": {
   "codemirror_mode": {
    "name": "ipython",
    "version": 3
   },
   "file_extension": ".py",
   "mimetype": "text/x-python",
   "name": "python",
   "nbconvert_exporter": "python",
   "pygments_lexer": "ipython3",
   "version": "3.6.5"
  }
 },
 "nbformat": 4,
 "nbformat_minor": 5
}
