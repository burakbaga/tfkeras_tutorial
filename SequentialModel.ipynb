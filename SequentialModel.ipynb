{
 "cells": [
  {
   "cell_type": "markdown",
   "id": "25ff9c9b",
   "metadata": {},
   "source": [
    "# The Sequential Model"
   ]
  },
  {
   "cell_type": "markdown",
   "id": "dd06346d",
   "metadata": {},
   "source": [
    "Sequential model katmanların stack halinde sıralı olduğu bir yapıdadır. Sequential modeli bir input ve bir output olduğu durumlarda kullanabiliriz. "
   ]
  },
  {
   "cell_type": "code",
   "execution_count": 1,
   "id": "347478fa",
   "metadata": {},
   "outputs": [],
   "source": [
    "import tensorflow as tf \n",
    "from tensorflow import keras \n",
    "from tensorflow.keras import layers"
   ]
  },
  {
   "cell_type": "code",
   "execution_count": 2,
   "id": "1732fb0f",
   "metadata": {},
   "outputs": [],
   "source": [
    "model = keras.Sequential([\n",
    "    layers.Dense(2,activation=\"relu\",name=\"layer1\"),\n",
    "    layers.Dense(3,activation=\"relu\",name=\"layer2\"),\n",
    "    layers.Dense(4,name=\"layer3\")\n",
    "])\n",
    "\n",
    "x = tf.ones((3,3))\n",
    "y = model(x)"
   ]
  },
  {
   "cell_type": "code",
   "execution_count": 3,
   "id": "70c7d62d",
   "metadata": {},
   "outputs": [],
   "source": [
    "# Yukarıdaki modelin farklı şekilde yazımı ;\n",
    "layer1 = layers.Dense(2,activation=\"relu\",name=\"layer1\")\n",
    "layer2 = layers.Dense(3,activation=\"relu\",name=\"layer2\")\n",
    "layer3 = layers.Dense(4,name=\"layers3\")\n",
    "\n",
    "x = tf.ones((3,3))\n",
    "y = layer3(layer2(layer1(x)))"
   ]
  },
  {
   "cell_type": "markdown",
   "id": "5b909d3a-b048-40a4-90a1-d3e647d1b1ca",
   "metadata": {},
   "source": [
    "Sequential Model aşağıdaki durumlara uygun değildir.  \n",
    "* Modelin birden fazla inputu ve outputu varsa, \n",
    "* Herhangi bir layerın birden fazla inputu ve outputu varsa\n",
    "* Layer paylaşımı yapmak istersek \n",
    "* Liner olmayan bir topoloji kullanmak istersek "
   ]
  },
  {
   "cell_type": "markdown",
   "id": "eba93762-0bcb-4d7f-b42d-7ca280212ebe",
   "metadata": {},
   "source": [
    "# Sequential Model Oluşturma\n",
    "Sequential model oluşturmak için constructor'a bir dizi layer göndeririz."
   ]
  },
  {
   "cell_type": "code",
   "execution_count": 5,
   "id": "84ab6bc9-d39b-4a1c-9cb1-359837317597",
   "metadata": {},
   "outputs": [
    {
     "data": {
      "text/plain": [
       "[<keras.layers.core.Dense at 0x1e6676ee1d0>,\n",
       " <keras.layers.core.Dense at 0x1e684dd1a58>,\n",
       " <keras.layers.core.Dense at 0x1e684dd1d68>]"
      ]
     },
     "execution_count": 5,
     "metadata": {},
     "output_type": "execute_result"
    }
   ],
   "source": [
    "model = keras.Sequential([\n",
    "    layers.Dense(2,activation=\"relu\"),\n",
    "    layers.Dense(3,activation=\"relu\"),\n",
    "    layers.Dense(4)\n",
    "])\n",
    "# Katmanlara .layer ile erişebiliriz. \n",
    "model.layers"
   ]
  },
  {
   "cell_type": "code",
   "execution_count": 7,
   "id": "dcd0820c-4211-404b-bf1c-0b7cbcaf218e",
   "metadata": {},
   "outputs": [],
   "source": [
    "# add() metodu kullanarakta Sequential model oluşturabiliriz\n",
    "model = keras.Sequential()\n",
    "model.add(layers.Dense(2,activation=\"relu\"))\n",
    "model.add(layers.Dense(3,activation=\"relu\"))\n",
    "model.add(layers.Dense(4))\n"
   ]
  },
  {
   "cell_type": "code",
   "execution_count": 8,
   "id": "8615eb5a-d91e-4d08-ba84-d2dfa6d70f80",
   "metadata": {},
   "outputs": [
    {
     "name": "stdout",
     "output_type": "stream",
     "text": [
      "2\n"
     ]
    }
   ],
   "source": [
    "# pop metoduyla son layerı çıkartabiliriz. Sequential model bir liste gibi davranır. \n",
    "model.pop()\n",
    "print(len(model.layers))"
   ]
  },
  {
   "cell_type": "code",
   "execution_count": 9,
   "id": "b5134c7b-3f6a-4406-9a91-6460e6e46399",
   "metadata": {},
   "outputs": [],
   "source": [
    "# Ayrıca name parametresini de verebiliriz. \n",
    "model = keras.Sequential(name=\"my_sequential\")\n",
    "model.add(layers.Dense(2,activation=\"relu\",name=\"layer1\"))\n",
    "model.add(layers.Dense(3,activation=\"relu\",name=\"layer2\"))\n",
    "model.add(layers.Dense(4,name=\"layer3\"))"
   ]
  },
  {
   "cell_type": "markdown",
   "id": "f39f17a6-9916-452c-8c20-5e26529ce78e",
   "metadata": {},
   "source": [
    "## İnput shape'in önceden verilmesi \n",
    "Genellikle, Kerasta tüm layerlar input shapelerini bilmelidir. Bu sayede weightleri oluşturabilirler. Shape olmayan bir layer oluşturursak ; "
   ]
  },
  {
   "cell_type": "code",
   "execution_count": 11,
   "id": "67ae11c6-7445-4f1d-98ed-76351300d308",
   "metadata": {},
   "outputs": [
    {
     "data": {
      "text/plain": [
       "[]"
      ]
     },
     "execution_count": 11,
     "metadata": {},
     "output_type": "execute_result"
    }
   ],
   "source": [
    "layer = layers.Dense(3)\n",
    "layer.weights"
   ]
  },
  {
   "cell_type": "code",
   "execution_count": 13,
   "id": "8e3a6b38-9488-4473-a895-92849625a351",
   "metadata": {},
   "outputs": [
    {
     "data": {
      "text/plain": [
       "[<tf.Variable 'dense_9/kernel:0' shape=(4, 3) dtype=float32, numpy=\n",
       " array([[-0.5799253 , -0.00989765,  0.37253153],\n",
       "        [ 0.17615592, -0.62095666,  0.89335895],\n",
       "        [-0.3366527 ,  0.07671583,  0.9188205 ],\n",
       "        [ 0.20459676,  0.45761383, -0.3958488 ]], dtype=float32)>,\n",
       " <tf.Variable 'dense_9/bias:0' shape=(3,) dtype=float32, numpy=array([0., 0., 0.], dtype=float32)>]"
      ]
     },
     "execution_count": 13,
     "metadata": {},
     "output_type": "execute_result"
    }
   ],
   "source": [
    "# Weightler shape bilgisi alındıktan sonra oluşturulur. \n",
    "x = tf.ones((1,4))\n",
    "y = layer(x)\n",
    "layer.weights"
   ]
  },
  {
   "cell_type": "markdown",
   "id": "26b285a7-2d53-4f96-af4c-0834a9b220bc",
   "metadata": {},
   "source": [
    "Eğer input shape olmadan bir sequential model çalıştırırsak,model.weights ve .summary() metodlarında hata alırız. Weightler model ilk data gördüğünde oluşturulur. "
   ]
  },
  {
   "cell_type": "code",
   "execution_count": 15,
   "id": "4f54bff3-ff0f-4677-bb5f-81bb050c0025",
   "metadata": {},
   "outputs": [
    {
     "name": "stdout",
     "output_type": "stream",
     "text": [
      "Modeli çağırdıktan sonra weights sayısı :  6\n"
     ]
    }
   ],
   "source": [
    "model = keras.Sequential(\n",
    "    [\n",
    "        layers.Dense(2, activation=\"relu\"),\n",
    "        layers.Dense(3, activation=\"relu\"),\n",
    "        layers.Dense(4),\n",
    "    ]\n",
    ")  # Weight yoktur\n",
    "\n",
    "# bu durumda aşağıdaki satırlar hata verir\n",
    "# model.weights\n",
    "# model.summary()\n",
    "\n",
    "x = tf.ones((1,4))\n",
    "y = model(x)\n",
    "print(\"Modeli çağırdıktan sonra weights sayısı : \",len(model.weights))"
   ]
  },
  {
   "cell_type": "code",
   "execution_count": 18,
   "id": "6aacf638-5fb7-4618-b58f-d616638cbe70",
   "metadata": {},
   "outputs": [
    {
     "name": "stdout",
     "output_type": "stream",
     "text": [
      "Model: \"sequential_9\"\n",
      "_________________________________________________________________\n",
      "Layer (type)                 Output Shape              Param #   \n",
      "=================================================================\n",
      "dense_18 (Dense)             (None, 2)                 10        \n",
      "=================================================================\n",
      "Total params: 10\n",
      "Trainable params: 10\n",
      "Non-trainable params: 0\n",
      "_________________________________________________________________\n",
      "None\n"
     ]
    },
    {
     "data": {
      "text/plain": [
       "[<keras.layers.core.Dense at 0x1e69922f9e8>]"
      ]
     },
     "execution_count": 18,
     "metadata": {},
     "output_type": "execute_result"
    }
   ],
   "source": [
    "# Model oluştururken summary bilgisini görmek faydalı olacaktır. Bu sebeple Input objesi ile input shape belirtebiliriz. \n",
    "model = keras.Sequential()\n",
    "model.add(keras.Input(shape=(4,)))\n",
    "model.add(layers.Dense(2,activation=\"relu\"))\n",
    "print(model.summary())\n",
    "# input objesi model.layers ile görünmez çünkü bir layer değildir.\n",
    "model.layers"
   ]
  },
  {
   "cell_type": "code",
   "execution_count": 19,
   "id": "18173b70-8271-492f-8090-5316280e7654",
   "metadata": {},
   "outputs": [
    {
     "name": "stdout",
     "output_type": "stream",
     "text": [
      "Model: \"sequential_10\"\n",
      "_________________________________________________________________\n",
      "Layer (type)                 Output Shape              Param #   \n",
      "=================================================================\n",
      "dense_19 (Dense)             (None, 2)                 10        \n",
      "=================================================================\n",
      "Total params: 10\n",
      "Trainable params: 10\n",
      "Non-trainable params: 0\n",
      "_________________________________________________________________\n"
     ]
    }
   ],
   "source": [
    "# Alternatif olarak ilk katmana input_shape parametresi gönderebiliriz. \n",
    "model = keras.Sequential()\n",
    "model.add(layers.Dense(2,activation=\"relu\",input_shape=(4,)))\n",
    "model.summary()"
   ]
  },
  {
   "cell_type": "markdown",
   "id": "89047797-5b4a-4702-bb0c-037ae212d7a7",
   "metadata": {},
   "source": [
    "## Debugging Workflow : add() + summary()\n",
    "Sequential model oluştururken layerları add ile stackleyerek ilerleyip belirli aralıklarda summary ile kontrol etmemiz gerekebilir. İmage datası gönderdiğimizde datanın ne durumda olduğunu takip etmek önemli olabilir."
   ]
  },
  {
   "cell_type": "code",
   "execution_count": 20,
   "id": "da93e57e-d4de-4522-bdac-0a29b3f109b8",
   "metadata": {},
   "outputs": [
    {
     "name": "stdout",
     "output_type": "stream",
     "text": [
      "Model: \"sequential_11\"\n",
      "_________________________________________________________________\n",
      "Layer (type)                 Output Shape              Param #   \n",
      "=================================================================\n",
      "conv2d (Conv2D)              (None, 123, 123, 32)      2432      \n",
      "_________________________________________________________________\n",
      "conv2d_1 (Conv2D)            (None, 121, 121, 32)      9248      \n",
      "_________________________________________________________________\n",
      "max_pooling2d (MaxPooling2D) (None, 40, 40, 32)        0         \n",
      "=================================================================\n",
      "Total params: 11,680\n",
      "Trainable params: 11,680\n",
      "Non-trainable params: 0\n",
      "_________________________________________________________________\n",
      "Model: \"sequential_11\"\n",
      "_________________________________________________________________\n",
      "Layer (type)                 Output Shape              Param #   \n",
      "=================================================================\n",
      "conv2d (Conv2D)              (None, 123, 123, 32)      2432      \n",
      "_________________________________________________________________\n",
      "conv2d_1 (Conv2D)            (None, 121, 121, 32)      9248      \n",
      "_________________________________________________________________\n",
      "max_pooling2d (MaxPooling2D) (None, 40, 40, 32)        0         \n",
      "_________________________________________________________________\n",
      "conv2d_2 (Conv2D)            (None, 38, 38, 32)        9248      \n",
      "_________________________________________________________________\n",
      "conv2d_3 (Conv2D)            (None, 36, 36, 32)        9248      \n",
      "_________________________________________________________________\n",
      "max_pooling2d_1 (MaxPooling2 (None, 12, 12, 32)        0         \n",
      "_________________________________________________________________\n",
      "conv2d_4 (Conv2D)            (None, 10, 10, 32)        9248      \n",
      "_________________________________________________________________\n",
      "conv2d_5 (Conv2D)            (None, 8, 8, 32)          9248      \n",
      "_________________________________________________________________\n",
      "max_pooling2d_2 (MaxPooling2 (None, 4, 4, 32)          0         \n",
      "=================================================================\n",
      "Total params: 48,672\n",
      "Trainable params: 48,672\n",
      "Non-trainable params: 0\n",
      "_________________________________________________________________\n"
     ]
    }
   ],
   "source": [
    "model = keras.Sequential()\n",
    "model.add(keras.Input(shape=(250, 250, 3)))  # 250x250 RGB images\n",
    "model.add(layers.Conv2D(32, 5, strides=2, activation=\"relu\"))\n",
    "model.add(layers.Conv2D(32, 3, activation=\"relu\"))\n",
    "model.add(layers.MaxPooling2D(3))\n",
    "\n",
    "\n",
    "model.summary() # output shape 40,40,32 --> hala downsampling yapmamıza olanak var. \n",
    "\n",
    "\n",
    "model.add(layers.Conv2D(32, 3, activation=\"relu\"))\n",
    "model.add(layers.Conv2D(32, 3, activation=\"relu\"))\n",
    "model.add(layers.MaxPooling2D(3))\n",
    "model.add(layers.Conv2D(32, 3, activation=\"relu\"))\n",
    "model.add(layers.Conv2D(32, 3, activation=\"relu\"))\n",
    "model.add(layers.MaxPooling2D(2))\n",
    "\n",
    "model.summary()\n",
    "\n",
    "# Şİmdi 4x4 feature map kaldı global max pooling uygulayabiliriz.\n",
    "model.add(layers.GlobalMaxPooling2D())\n",
    "\n",
    "\n",
    "model.add(layers.Dense(10))"
   ]
  },
  {
   "cell_type": "markdown",
   "id": "b7876c96-b062-4acb-aff9-a6dc2870ed19",
   "metadata": {},
   "source": [
    "## Modeli oluşturduğumuzda ne yapacağız? \n",
    "Model mimarisi hazır olduğunda : \n",
    "* Model eğitimi, evaluate edilmesi ve tahminleme adımına geçeriz. \n",
    "* Modeli kaydedebiliriz. \n"
   ]
  },
  {
   "cell_type": "markdown",
   "id": "b5f6bd46-7b71-489d-a2a7-b54c04ec82d6",
   "metadata": {},
   "source": [
    "## Sequential modelde özellik çıkarımı \n",
    "Sequential model oluşturulduğunda Functional model gibi davranır. Bunun anlamı her bir katmanın input ve output özelliği vardır."
   ]
  },
  {
   "cell_type": "code",
   "execution_count": 21,
   "id": "30f1fcfb-3b99-42b4-85f9-0084eb0bb322",
   "metadata": {},
   "outputs": [],
   "source": [
    "initial_model = keras.Sequential(\n",
    "    [\n",
    "        keras.Input(shape=(250, 250, 3)),\n",
    "        layers.Conv2D(32, 5, strides=2, activation=\"relu\"),\n",
    "        layers.Conv2D(32, 3, activation=\"relu\"),\n",
    "        layers.Conv2D(32, 3, activation=\"relu\"),\n",
    "    ]\n",
    ")\n",
    "\n",
    "feature_extractor = keras.Model(\n",
    "    inputs=initial_model.inputs,\n",
    "    outputs=[layer.output for layer in initial_model.layers],\n",
    ")\n",
    "\n",
    "x = tf.ones((1, 250, 250, 3))\n",
    "features = feature_extractor(x)"
   ]
  },
  {
   "cell_type": "code",
   "execution_count": 22,
   "id": "d8c6035c-1cc8-4e81-9847-d8dad0d98fb0",
   "metadata": {},
   "outputs": [],
   "source": [
    "initial_model = keras.Sequential(\n",
    "    [\n",
    "        keras.Input(shape=(250, 250, 3)),\n",
    "        layers.Conv2D(32, 5, strides=2, activation=\"relu\"),\n",
    "        layers.Conv2D(32, 3, activation=\"relu\", name=\"my_intermediate_layer\"),\n",
    "        layers.Conv2D(32, 3, activation=\"relu\"),\n",
    "    ]\n",
    ")\n",
    "feature_extractor = keras.Model(\n",
    "    inputs=initial_model.inputs,\n",
    "    outputs=initial_model.get_layer(name=\"my_intermediate_layer\").output,\n",
    ")\n",
    "# Call feature extractor on test input.\n",
    "x = tf.ones((1, 250, 250, 3))\n",
    "features = feature_extractor(x)"
   ]
  },
  {
   "cell_type": "markdown",
   "id": "d98e672f-26bb-466b-9249-bbe0f8919679",
   "metadata": {},
   "source": [
    "## Sequential Model ile Transfer Learning \n",
    "Transfer learning genellikle modelin alt katmanlarını dondurup üst katmanlarını eğiterek yapılır.  \n",
    "Örneğin aşağıda bir sequential model oluşturalaım ve bunun sadece son katmanını eğitelim. Bunun için son katmana kadar olan layerların layer.trainable = False yapalım "
   ]
  },
  {
   "cell_type": "code",
   "execution_count": 24,
   "id": "77378f03-0913-4924-a32d-5873ec61b679",
   "metadata": {},
   "outputs": [],
   "source": [
    "model = keras.Sequential([\n",
    "    keras.Input(shape=(784)),\n",
    "    layers.Dense(32, activation='relu'),\n",
    "    layers.Dense(32, activation='relu'),\n",
    "    layers.Dense(32, activation='relu'),\n",
    "    layers.Dense(10),\n",
    "])\n",
    "\n",
    "# model.load_weights(\"\") # burada eğitilmiş modelin ağırlıklarını yüklüyoruz. \n",
    "\n",
    "for layer in model.layers[:-1]:\n",
    "    layer.trainable= False\n",
    "    \n",
    "# model.compile(...)\n",
    "# model.fit()"
   ]
  },
  {
   "cell_type": "code",
   "execution_count": null,
   "id": "98ed0aab-5f11-4b56-bdeb-74ed13a87bbd",
   "metadata": {},
   "outputs": [],
   "source": [
    "# Önceden eğitilmiş modelü oluşturalım\n",
    "base_model = keras.applications.Xception(\n",
    "    weights='imagenet',\n",
    "    include_top=False,\n",
    "    pooling='avg')\n",
    "\n",
    "# Base modeli donduralım \n",
    "base_model.trainable = False\n",
    "\n",
    "# Modelin en üstüne eğitilebilir bir layer ekleyelim \n",
    "model = keras.Sequential([\n",
    "    base_model,\n",
    "    layers.Dense(1000),\n",
    "])\n",
    "\n",
    "#  compile \n",
    "# model.compile(...)\n",
    "# model.fit(...)"
   ]
  }
 ],
 "metadata": {
  "kernelspec": {
   "display_name": "tod",
   "language": "python",
   "name": "tod"
  },
  "language_info": {
   "codemirror_mode": {
    "name": "ipython",
    "version": 3
   },
   "file_extension": ".py",
   "mimetype": "text/x-python",
   "name": "python",
   "nbconvert_exporter": "python",
   "pygments_lexer": "ipython3",
   "version": "3.6.5"
  }
 },
 "nbformat": 4,
 "nbformat_minor": 5
}
